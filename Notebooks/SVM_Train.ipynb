{
 "cells": [
  {
   "cell_type": "code",
   "execution_count": 0,
   "metadata": {
    "colab": {
     "base_uri": "https://localhost:8080/",
     "height": 121
    },
    "colab_type": "code",
    "id": "mUW6sV7aTTWl",
    "outputId": "2d1ee1ac-1fbe-4dde-c427-b41cd7934be8"
   },
   "outputs": [
    {
     "name": "stdout",
     "output_type": "stream",
     "text": [
      "Go to this URL in a browser: https://accounts.google.com/o/oauth2/auth?client_id=947318989803-6bn6qk8qdgf4n4g3pfee6491hc0brc4i.apps.googleusercontent.com&redirect_uri=urn%3Aietf%3Awg%3Aoauth%3A2.0%3Aoob&scope=email%20https%3A%2F%2Fwww.googleapis.com%2Fauth%2Fdocs.test%20https%3A%2F%2Fwww.googleapis.com%2Fauth%2Fdrive%20https%3A%2F%2Fwww.googleapis.com%2Fauth%2Fdrive.photos.readonly%20https%3A%2F%2Fwww.googleapis.com%2Fauth%2Fpeopleapi.readonly&response_type=code\n",
      "\n",
      "Enter your authorization code:\n",
      "··········\n",
      "Mounted at /content/drive/\n"
     ]
    }
   ],
   "source": [
    "from google.colab import drive\n",
    "drive.mount('/content/drive/')"
   ]
  },
  {
   "cell_type": "code",
   "execution_count": 0,
   "metadata": {
    "colab": {},
    "colab_type": "code",
    "id": "wTSe7RisTYDn"
   },
   "outputs": [],
   "source": [
    "import numpy as np\n",
    "import pandas as pd\n",
    "import matplotlib.pyplot as plt\n",
    "from sklearn.model_selection import train_test_split\n",
    "from sklearn import  svm, metrics"
   ]
  },
  {
   "cell_type": "code",
   "execution_count": 0,
   "metadata": {
    "colab": {
     "base_uri": "https://localhost:8080/",
     "height": 121
    },
    "colab_type": "code",
    "id": "_VOVT1I_VL31",
    "outputId": "fbbaca03-1635-4aa0-ad87-05a7db80ad5f"
   },
   "outputs": [
    {
     "name": "stdout",
     "output_type": "stream",
     "text": [
      "Go to this URL in a browser: https://accounts.google.com/o/oauth2/auth?client_id=947318989803-6bn6qk8qdgf4n4g3pfee6491hc0brc4i.apps.googleusercontent.com&redirect_uri=urn%3Aietf%3Awg%3Aoauth%3A2.0%3Aoob&scope=email%20https%3A%2F%2Fwww.googleapis.com%2Fauth%2Fdocs.test%20https%3A%2F%2Fwww.googleapis.com%2Fauth%2Fdrive%20https%3A%2F%2Fwww.googleapis.com%2Fauth%2Fdrive.photos.readonly%20https%3A%2F%2Fwww.googleapis.com%2Fauth%2Fpeopleapi.readonly&response_type=code\n",
      "\n",
      "Enter your authorization code:\n",
      "··········\n",
      "Mounted at /content/drive\n"
     ]
    }
   ],
   "source": [
    "from google.colab import drive\n",
    "drive.mount('/content/drive')"
   ]
  },
  {
   "cell_type": "code",
   "execution_count": 0,
   "metadata": {
    "colab": {
     "base_uri": "https://localhost:8080/",
     "height": 134
    },
    "colab_type": "code",
    "id": "3FhGo33BVm1E",
    "outputId": "8708e40a-f769-4847-93cf-134767e96d18"
   },
   "outputs": [
    {
     "name": "stdout",
     "output_type": "stream",
     "text": [
      "(123399, 784)\n",
      "\n",
      "(307936, 784)\n",
      "\n",
      "(165202, 784)\n",
      "\n",
      "(113862, 784)\n"
     ]
    }
   ],
   "source": [
    "alarm_arr=np.load('/content/drive/My Drive/alarm.npy')\n",
    "bed_arr=np.load('/content/drive/My Drive/bed.npy')\n",
    "beard_arr=np.load('/content/drive/My Drive/beard.npy')\n",
    "banana_arr=np.load('/content/drive/My Drive/banana.npy')\n",
    "\n",
    "print(alarm_arr.shape)\n",
    "print()\n",
    "print(bed_arr.shape)\n",
    "print()\n",
    "print(beard_arr.shape)\n",
    "print()\n",
    "print(banana_arr.shape)"
   ]
  },
  {
   "cell_type": "code",
   "execution_count": 0,
   "metadata": {
    "colab": {},
    "colab_type": "code",
    "id": "EyuysxnQV9Yg"
   },
   "outputs": [],
   "source": [
    "import random\n",
    "train_size=25000\n",
    "train_len=100000\n",
    "test_size=1000\n",
    "test_len=4000\n",
    "label_size=4\n",
    "\n",
    "ls1=[]\n",
    "for x in range(5000):\n",
    "    ls1.append(random.randint(0,100000))\n",
    "\n",
    "tr=[]\n",
    "for i in range(4):\n",
    "    for j in ls1:\n",
    "        if(i==0):\n",
    "            tr.append(alarm_arr[j])\n",
    "        elif(i==1):\n",
    "            tr.append(bed_arr[j])\n",
    "        elif(i==2):\n",
    "            tr.append(beard_arr[j])\n",
    "        else:\n",
    "            tr.append(banana_arr[j])"
   ]
  },
  {
   "cell_type": "code",
   "execution_count": 0,
   "metadata": {
    "colab": {
     "base_uri": "https://localhost:8080/",
     "height": 34
    },
    "colab_type": "code",
    "id": "p-iNHzarWGLC",
    "outputId": "0e2e82ae-df3f-4be2-a810-275738d36253"
   },
   "outputs": [
    {
     "data": {
      "text/plain": [
       "(20000, 784)"
      ]
     },
     "execution_count": 44,
     "metadata": {
      "tags": []
     },
     "output_type": "execute_result"
    }
   ],
   "source": [
    "train=np.array(tr)\n",
    "train.shape"
   ]
  },
  {
   "cell_type": "code",
   "execution_count": 0,
   "metadata": {
    "colab": {},
    "colab_type": "code",
    "id": "7tCKvdV-WKpb"
   },
   "outputs": [],
   "source": [
    "train=train/255.0"
   ]
  },
  {
   "cell_type": "code",
   "execution_count": 0,
   "metadata": {
    "colab": {
     "base_uri": "https://localhost:8080/",
     "height": 50
    },
    "colab_type": "code",
    "id": "oDDIKBLPWOrT",
    "outputId": "13b01a2a-a391-46b0-eece-d0c5d7a66c94"
   },
   "outputs": [
    {
     "name": "stdout",
     "output_type": "stream",
     "text": [
      "(20000,)\n",
      "[0. 0. 0. ... 3. 3. 3.]\n"
     ]
    }
   ],
   "source": [
    "from keras.utils import np_utils\n",
    "data_y = np.zeros((20000,))\n",
    "print(data_y.shape)\n",
    "data_y[5000:10000]=1\n",
    "data_y[10000:15000]=2\n",
    "data_y[15000:]=3\n",
    "print(data_y)\n",
    "data_y = np.array(data_y)\n",
    "# data_y = np_utils.to_categorical(data_y)"
   ]
  },
  {
   "cell_type": "code",
   "execution_count": 0,
   "metadata": {
    "colab": {
     "base_uri": "https://localhost:8080/",
     "height": 50
    },
    "colab_type": "code",
    "id": "0GF6Lde2Wgsw",
    "outputId": "eb44b6fb-25bb-479c-a109-37c675df8529"
   },
   "outputs": [
    {
     "name": "stdout",
     "output_type": "stream",
     "text": [
      "(20000, 784)\n",
      "(20000,)\n"
     ]
    }
   ],
   "source": [
    "print(train.shape)\n",
    "print(data_y.shape)"
   ]
  },
  {
   "cell_type": "code",
   "execution_count": 0,
   "metadata": {
    "colab": {},
    "colab_type": "code",
    "id": "f72jqqzhcKvP"
   },
   "outputs": [],
   "source": [
    "train, test, data_y, y_test = train_test_split(train,data_y, test_size=0.3, random_state=13)"
   ]
  },
  {
   "cell_type": "code",
   "execution_count": 0,
   "metadata": {
    "colab": {
     "base_uri": "https://localhost:8080/",
     "height": 2251
    },
    "colab_type": "code",
    "id": "HNvSONUZcXik",
    "outputId": "1cbb117f-f0a4-49c3-f6ec-7ed77d3edd85"
   },
   "outputs": [
    {
     "name": "stdout",
     "output_type": "stream",
     "text": [
      "[0.         0.         0.         0.         0.         0.\n",
      " 0.         0.         0.         0.         0.         0.\n",
      " 0.         0.         0.         0.         0.         0.\n",
      " 0.         0.         0.         0.         0.         0.\n",
      " 0.         0.         0.         0.         0.         0.\n",
      " 0.         0.         0.         0.         0.         0.\n",
      " 0.         0.         0.         0.         0.         0.\n",
      " 0.         0.         0.         0.         0.         0.\n",
      " 0.         0.         0.         0.         0.         0.\n",
      " 0.         0.         0.         0.         0.         0.\n",
      " 0.         0.         0.         0.         0.         0.\n",
      " 0.         0.         0.         0.         0.         0.\n",
      " 0.         0.         0.         0.         0.         0.\n",
      " 0.         0.         0.         0.         0.         0.\n",
      " 0.         0.         0.         0.         0.         0.\n",
      " 0.         0.         0.         0.         0.         0.\n",
      " 0.         0.         0.         0.         0.         0.\n",
      " 0.         0.         0.         0.         0.         0.\n",
      " 0.         0.         0.         0.         0.         0.\n",
      " 0.         0.         0.         0.         0.         0.\n",
      " 0.         0.         0.         0.         0.         0.\n",
      " 0.         0.         0.         0.         0.         0.\n",
      " 0.         0.         0.         0.         0.         0.\n",
      " 0.         0.         0.         0.         0.         0.\n",
      " 0.         0.         0.         0.         0.         0.\n",
      " 0.         0.         0.         0.         0.         0.\n",
      " 0.         0.         0.         0.         0.         0.\n",
      " 0.         0.         0.         0.         0.         0.\n",
      " 0.         0.         0.         0.         0.         0.\n",
      " 0.         0.         0.         0.         0.         0.\n",
      " 0.         0.         0.         0.         0.         0.\n",
      " 0.         0.         0.         0.         0.         0.\n",
      " 0.         0.         0.         0.         0.         0.\n",
      " 0.00392157 0.13333333 0.         0.         0.         0.\n",
      " 0.         0.         0.         0.         0.         0.\n",
      " 0.         0.         0.         0.         0.         0.\n",
      " 0.         0.         0.         0.         0.         0.\n",
      " 0.         0.         0.         0.23137255 0.91764706 0.99607843\n",
      " 0.15686275 0.         0.         0.         0.         0.\n",
      " 0.         0.         0.         0.         0.         0.\n",
      " 0.         0.         0.         0.         0.         0.\n",
      " 0.         0.         0.         0.         0.         0.\n",
      " 0.         0.37647059 1.         1.         0.44313725 0.\n",
      " 0.         0.         0.         0.         0.         0.\n",
      " 0.         0.         0.         0.         0.         0.\n",
      " 0.         0.         0.         0.         0.         0.\n",
      " 0.         0.         0.         0.         0.         0.27058824\n",
      " 1.         0.98823529 0.72156863 0.         0.         0.\n",
      " 0.         0.         0.         0.         0.         0.\n",
      " 0.         0.         0.         0.         0.         0.\n",
      " 0.         0.         0.         0.         0.         0.\n",
      " 0.         0.         0.         0.16470588 1.         0.85098039\n",
      " 0.96470588 0.07058824 0.         0.         0.         0.\n",
      " 0.         0.         0.         0.         0.         0.\n",
      " 0.         0.         0.         0.         0.         0.\n",
      " 0.         0.         0.         0.         0.         0.\n",
      " 0.         0.04705882 0.97254902 0.75686275 0.97647059 0.60392157\n",
      " 0.         0.         0.05882353 0.21176471 0.37254902 0.52941176\n",
      " 0.68235294 0.79607843 0.8        0.84313725 0.86666667 0.86666667\n",
      " 0.86666667 0.92156863 0.93333333 0.93333333 0.9372549  0.99607843\n",
      " 0.90980392 0.81176471 0.21960784 0.         0.         0.\n",
      " 0.52156863 0.99215686 0.72156863 1.         0.93333333 0.90588235\n",
      " 1.         1.         1.         0.95686275 0.80392157 0.67843137\n",
      " 0.66666667 0.6627451  0.6        0.6        0.6        0.58431373\n",
      " 0.53333333 0.53333333 0.57254902 0.73333333 0.96862745 1.\n",
      " 0.39607843 0.         0.         0.         0.03921569 0.88235294\n",
      " 0.80392157 0.39607843 0.54509804 0.57647059 0.43137255 0.2745098\n",
      " 0.12156863 0.00392157 0.         0.         0.         0.\n",
      " 0.         0.09019608 0.51764706 0.54117647 0.8        0.96078431\n",
      " 0.99215686 1.         1.         0.97254902 0.18823529 0.\n",
      " 0.         0.         0.         0.29803922 0.98823529 0.76862745\n",
      " 0.5254902  0.60784314 0.43529412 0.28627451 0.22745098 0.31372549\n",
      " 0.43529412 0.55686275 0.6745098  0.79215686 0.91764706 1.\n",
      " 1.         0.99607843 0.94509804 0.98039216 0.89019608 0.27843137\n",
      " 0.65098039 0.8627451  0.         0.         0.         0.\n",
      " 0.         0.         0.31764706 0.92156863 1.         1.\n",
      " 1.         1.         1.         1.         1.         0.9254902\n",
      " 0.80784314 0.69019608 0.56862745 0.40392157 0.77647059 0.79215686\n",
      " 0.64313725 0.93333333 0.87843137 0.         0.50588235 0.97254902\n",
      " 0.00392157 0.         0.         0.         0.         0.\n",
      " 0.         0.47843137 1.         0.79215686 0.78039216 0.18823529\n",
      " 0.25490196 0.16470588 0.04313725 0.         0.         0.\n",
      " 0.         0.         0.51764706 0.96862745 0.65098039 0.91764706\n",
      " 0.96078431 0.         0.39607843 1.         0.08235294 0.\n",
      " 0.         0.         0.         0.         0.         0.47843137\n",
      " 1.         0.7254902  0.74901961 0.         0.         0.\n",
      " 0.         0.         0.         0.         0.         0.\n",
      " 0.3254902  1.         0.70588235 0.90588235 1.         0.03921569\n",
      " 0.28627451 1.         0.19215686 0.         0.         0.\n",
      " 0.         0.         0.         0.40392157 0.9254902  0.47843137\n",
      " 0.50196078 0.         0.         0.         0.         0.\n",
      " 0.         0.         0.         0.         0.11372549 0.99215686\n",
      " 0.66666667 0.80784314 0.99215686 0.0745098  0.07843137 0.6745098\n",
      " 0.09019608 0.         0.         0.         0.         0.\n",
      " 0.         0.00392157 0.05098039 0.         0.         0.\n",
      " 0.         0.         0.         0.         0.         0.\n",
      " 0.         0.         0.         0.13333333 0.00392157 0.00392157\n",
      " 0.13333333 0.         0.         0.         0.         0.\n",
      " 0.         0.         0.         0.         0.         0.\n",
      " 0.         0.         0.         0.         0.         0.\n",
      " 0.         0.         0.         0.         0.         0.\n",
      " 0.         0.         0.         0.         0.         0.\n",
      " 0.         0.         0.         0.         0.         0.\n",
      " 0.         0.         0.         0.         0.         0.\n",
      " 0.         0.         0.         0.         0.         0.\n",
      " 0.         0.         0.         0.         0.         0.\n",
      " 0.         0.         0.         0.         0.         0.\n",
      " 0.         0.         0.         0.         0.         0.\n",
      " 0.         0.         0.         0.         0.         0.\n",
      " 0.         0.         0.         0.         0.         0.\n",
      " 0.         0.         0.         0.         0.         0.\n",
      " 0.         0.         0.         0.         0.         0.\n",
      " 0.         0.         0.         0.         0.         0.\n",
      " 0.         0.         0.         0.         0.         0.\n",
      " 0.         0.         0.         0.         0.         0.\n",
      " 0.         0.         0.         0.         0.         0.\n",
      " 0.         0.         0.         0.         0.         0.\n",
      " 0.         0.         0.         0.         0.         0.\n",
      " 0.         0.         0.         0.         0.         0.\n",
      " 0.         0.         0.         0.         0.         0.\n",
      " 0.         0.         0.         0.         0.         0.\n",
      " 0.         0.         0.         0.         0.         0.\n",
      " 0.         0.         0.         0.         0.         0.\n",
      " 0.         0.         0.         0.         0.         0.\n",
      " 0.         0.         0.         0.         0.         0.\n",
      " 0.         0.         0.         0.         0.         0.\n",
      " 0.         0.         0.         0.         0.         0.\n",
      " 0.         0.         0.         0.         0.         0.\n",
      " 0.         0.         0.         0.         0.         0.\n",
      " 0.         0.         0.         0.         0.         0.\n",
      " 0.         0.         0.         0.        ]\n",
      "********************************************************************HELLO***************************************************************************************\n",
      "3.0\n"
     ]
    }
   ],
   "source": [
    "print(train[0])\n",
    "print('********************************************************************HELLO***************************************************************************************')\n",
    "print(data_y[0])\n",
    "classifier = svm.SVC(gamma=0.001)"
   ]
  },
  {
   "cell_type": "code",
   "execution_count": 0,
   "metadata": {
    "colab": {
     "base_uri": "https://localhost:8080/",
     "height": 151
    },
    "colab_type": "code",
    "id": "bt8VxiQkcfYs",
    "outputId": "a2cdb85f-7da4-4371-a637-7d793cf60c2a"
   },
   "outputs": [
    {
     "name": "stdout",
     "output_type": "stream",
     "text": [
      "14000\n",
      "14000\n",
      "3.0\n",
      "1.0\n"
     ]
    },
    {
     "data": {
      "text/plain": [
       "SVC(C=1.0, cache_size=200, class_weight=None, coef0=0.0,\n",
       "  decision_function_shape='ovr', degree=3, gamma=0.001, kernel='rbf',\n",
       "  max_iter=-1, probability=False, random_state=None, shrinking=True,\n",
       "  tol=0.001, verbose=False)"
      ]
     },
     "execution_count": 50,
     "metadata": {
      "tags": []
     },
     "output_type": "execute_result"
    }
   ],
   "source": [
    "print(len(train))\n",
    "print(len(data_y))\n",
    "print(data_y[0])\n",
    "print(data_y[1])\n",
    "classifier.fit(train,data_y)"
   ]
  },
  {
   "cell_type": "code",
   "execution_count": 0,
   "metadata": {
    "colab": {},
    "colab_type": "code",
    "id": "03fnrqQXgKXy"
   },
   "outputs": [],
   "source": [
    "y_pred = classifier.predict(test)"
   ]
  },
  {
   "cell_type": "code",
   "execution_count": 0,
   "metadata": {
    "colab": {
     "base_uri": "https://localhost:8080/",
     "height": 286
    },
    "colab_type": "code",
    "id": "pziLLvefh7cU",
    "outputId": "a86a19b9-2ca0-4893-aa8c-e5431086446a"
   },
   "outputs": [
    {
     "name": "stdout",
     "output_type": "stream",
     "text": [
      "Classification report for classifier SVC(C=1.0, cache_size=200, class_weight=None, coef0=0.0,\n",
      "  decision_function_shape='ovr', degree=3, gamma=0.001, kernel='rbf',\n",
      "  max_iter=-1, probability=False, random_state=None, shrinking=True,\n",
      "  tol=0.001, verbose=False):\n",
      "              precision    recall  f1-score   support\n",
      "\n",
      "         0.0       0.80      0.86      0.83      1534\n",
      "         1.0       0.90      0.90      0.90      1511\n",
      "         2.0       0.87      0.80      0.83      1490\n",
      "         3.0       0.88      0.87      0.88      1465\n",
      "\n",
      "   micro avg       0.86      0.86      0.86      6000\n",
      "   macro avg       0.86      0.86      0.86      6000\n",
      "weighted avg       0.86      0.86      0.86      6000\n",
      "\n",
      "\n"
     ]
    }
   ],
   "source": [
    "print(\"Classification report for classifier %s:\\n%s\\n\"\n",
    "      % (classifier, metrics.classification_report(y_test, y_pred)))"
   ]
  },
  {
   "cell_type": "code",
   "execution_count": 0,
   "metadata": {
    "colab": {
     "base_uri": "https://localhost:8080/",
     "height": 34
    },
    "colab_type": "code",
    "id": "-C83I1xWoHGI",
    "outputId": "6d7f7f9b-984a-45b2-8885-aab348cc9c36"
   },
   "outputs": [
    {
     "data": {
      "text/plain": [
       "0.859"
      ]
     },
     "execution_count": 56,
     "metadata": {
      "tags": []
     },
     "output_type": "execute_result"
    }
   ],
   "source": [
    "from sklearn.metrics import accuracy_score\n",
    "accuracy_score(y_test, y_pred)"
   ]
  },
  {
   "cell_type": "code",
   "execution_count": 0,
   "metadata": {
    "colab": {},
    "colab_type": "code",
    "id": "ZcDVMsMBTeNh"
   },
   "outputs": [],
   "source": []
  }
 ],
 "metadata": {
  "accelerator": "GPU",
  "colab": {
   "collapsed_sections": [],
   "name": "SVM_Train.ipynb",
   "provenance": [],
   "version": "0.3.2"
  },
  "kernelspec": {
   "display_name": "Python 3",
   "language": "python",
   "name": "python3"
  },
  "language_info": {
   "codemirror_mode": {
    "name": "ipython",
    "version": 3
   },
   "file_extension": ".py",
   "mimetype": "text/x-python",
   "name": "python",
   "nbconvert_exporter": "python",
   "pygments_lexer": "ipython3",
   "version": "3.7.0"
  }
 },
 "nbformat": 4,
 "nbformat_minor": 1
}
