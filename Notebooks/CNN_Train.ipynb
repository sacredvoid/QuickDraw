{
  "nbformat": 4,
  "nbformat_minor": 0,
  "metadata": {
    "colab": {
      "name": "CNN_Train.ipynb",
      "version": "0.3.2",
      "provenance": [],
      "collapsed_sections": []
    },
    "kernelspec": {
      "name": "python2",
      "display_name": "Python 2"
    },
    "accelerator": "GPU"
  },
  "cells": [
    {
      "metadata": {
        "id": "TufHA3rpDHeP",
        "colab_type": "code",
        "colab": {
          "base_uri": "https://localhost:8080/",
          "height": 34
        },
        "outputId": "241df6d2-d859-46a0-a2b1-d39619423790"
      },
      "cell_type": "code",
      "source": [
        "import numpy as np\n",
        "import matplotlib.pyplot as plt\n",
        "%matplotlib inline\n",
        "import pandas as pd\n",
        "from keras.models import Sequential\n",
        "from keras.layers import Dense, Activation, Convolution2D, Flatten, MaxPooling2D, Dropout, Conv2D\n",
        "from keras.utils import np_utils\n",
        "from keras.layers.normalization import BatchNormalization\n",
        "import os\n",
        "import cv2\n",
        "from keras.layers.advanced_activations import LeakyReLU"
      ],
      "execution_count": 1,
      "outputs": [
        {
          "output_type": "stream",
          "text": [
            "Using TensorFlow backend.\n"
          ],
          "name": "stderr"
        }
      ]
    },
    {
      "metadata": {
        "id": "R2b4db8NDjZn",
        "colab_type": "code",
        "colab": {
          "base_uri": "https://localhost:8080/",
          "height": 476
        },
        "outputId": "00f80880-2828-409b-b00b-938cc6168c81"
      },
      "cell_type": "code",
      "source": [
        "from tensorflow.python.client import device_lib\n",
        "device_lib.list_local_devices()"
      ],
      "execution_count": 2,
      "outputs": [
        {
          "output_type": "execute_result",
          "data": {
            "text/plain": [
              "[name: \"/device:CPU:0\"\n",
              " device_type: \"CPU\"\n",
              " memory_limit: 268435456\n",
              " locality {\n",
              " }\n",
              " incarnation: 7488035730901431945, name: \"/device:XLA_CPU:0\"\n",
              " device_type: \"XLA_CPU\"\n",
              " memory_limit: 17179869184\n",
              " locality {\n",
              " }\n",
              " incarnation: 11062808304390699844\n",
              " physical_device_desc: \"device: XLA_CPU device\", name: \"/device:XLA_GPU:0\"\n",
              " device_type: \"XLA_GPU\"\n",
              " memory_limit: 17179869184\n",
              " locality {\n",
              " }\n",
              " incarnation: 14098786109117192999\n",
              " physical_device_desc: \"device: XLA_GPU device\", name: \"/device:GPU:0\"\n",
              " device_type: \"GPU\"\n",
              " memory_limit: 11281553818\n",
              " locality {\n",
              "   bus_id: 1\n",
              "   links {\n",
              "   }\n",
              " }\n",
              " incarnation: 9164033425467191606\n",
              " physical_device_desc: \"device: 0, name: Tesla K80, pci bus id: 0000:00:04.0, compute capability: 3.7\"]"
            ]
          },
          "metadata": {
            "tags": []
          },
          "execution_count": 2
        }
      ]
    },
    {
      "metadata": {
        "id": "g68S8rJMDrOA",
        "colab_type": "code",
        "colab": {
          "base_uri": "https://localhost:8080/",
          "height": 5916
        },
        "outputId": "7d93d3a6-0e81-421a-e364-59766e7ff069"
      },
      "cell_type": "code",
      "source": [
        "!gsutil -m cp gs://quickdraw_dataset/full/numpy_bitmap/* ./data"
      ],
      "execution_count": 3,
      "outputs": [
        {
          "output_type": "stream",
          "text": [
            "Copying gs://quickdraw_dataset/full/numpy_bitmap/The Eiffel Tower.npy...\n",
            "Copying gs://quickdraw_dataset/full/numpy_bitmap/alarm clock.npy...\n",
            "Copying gs://quickdraw_dataset/full/numpy_bitmap/ambulance.npy...\n",
            "/ [0 files][    0.0 B/ 21.5 GiB]                                                \r/ [0 files][    0.0 B/ 21.5 GiB]                                                \r/ [0 files][    0.0 B/ 21.5 GiB]                                                \rCopying gs://quickdraw_dataset/full/numpy_bitmap/The Great Wall of China.npy...\n",
            "Copying gs://quickdraw_dataset/full/numpy_bitmap/angel.npy...\n",
            "/ [0 files][    0.0 B/ 21.5 GiB]                                                \r/ [0 files][    0.0 B/ 21.5 GiB]                                                \rCopying gs://quickdraw_dataset/full/numpy_bitmap/The Mona Lisa.npy...\n",
            "/ [0 files][    0.0 B/ 21.5 GiB]                                                \rCopying gs://quickdraw_dataset/full/numpy_bitmap/animal migration.npy...\n",
            "/ [0 files][    0.0 B/ 21.5 GiB]                                                \rCopying gs://quickdraw_dataset/full/numpy_bitmap/aircraft carrier.npy...\n",
            "/ [0 files][    0.0 B/ 21.5 GiB]                                                \rCopying gs://quickdraw_dataset/full/numpy_bitmap/airplane.npy...\n",
            "Copying gs://quickdraw_dataset/full/numpy_bitmap/ant.npy...\n",
            "Copying gs://quickdraw_dataset/full/numpy_bitmap/anvil.npy...\n",
            "Copying gs://quickdraw_dataset/full/numpy_bitmap/apple.npy...\n",
            "Copying gs://quickdraw_dataset/full/numpy_bitmap/arm.npy...\n",
            "Copying gs://quickdraw_dataset/full/numpy_bitmap/asparagus.npy...\n",
            "Copying gs://quickdraw_dataset/full/numpy_bitmap/axe.npy...\n",
            "Copying gs://quickdraw_dataset/full/numpy_bitmap/backpack.npy...\n",
            "Copying gs://quickdraw_dataset/full/numpy_bitmap/banana.npy...\n",
            "Copying gs://quickdraw_dataset/full/numpy_bitmap/bandage.npy...\n",
            "Copying gs://quickdraw_dataset/full/numpy_bitmap/barn.npy...\n",
            "Copying gs://quickdraw_dataset/full/numpy_bitmap/baseball bat.npy...\n",
            "Copying gs://quickdraw_dataset/full/numpy_bitmap/baseball.npy...\n",
            "Copying gs://quickdraw_dataset/full/numpy_bitmap/basket.npy...\n",
            "Copying gs://quickdraw_dataset/full/numpy_bitmap/basketball.npy...\n",
            "Copying gs://quickdraw_dataset/full/numpy_bitmap/bat.npy...\n",
            "Copying gs://quickdraw_dataset/full/numpy_bitmap/bathtub.npy...\n",
            "Copying gs://quickdraw_dataset/full/numpy_bitmap/beach.npy...\n",
            "Copying gs://quickdraw_dataset/full/numpy_bitmap/bear.npy...\n",
            "Copying gs://quickdraw_dataset/full/numpy_bitmap/beard.npy...\n",
            "Copying gs://quickdraw_dataset/full/numpy_bitmap/bed.npy...\n",
            "Copying gs://quickdraw_dataset/full/numpy_bitmap/bee.npy...\n",
            "Copying gs://quickdraw_dataset/full/numpy_bitmap/belt.npy...\n",
            "Copying gs://quickdraw_dataset/full/numpy_bitmap/bench.npy...\n",
            "Copying gs://quickdraw_dataset/full/numpy_bitmap/bicycle.npy...\n",
            "Copying gs://quickdraw_dataset/full/numpy_bitmap/binoculars.npy...\n",
            "Copying gs://quickdraw_dataset/full/numpy_bitmap/bird.npy...\n",
            "Copying gs://quickdraw_dataset/full/numpy_bitmap/birthday cake.npy...\n",
            "Copying gs://quickdraw_dataset/full/numpy_bitmap/blackberry.npy...\n",
            "Copying gs://quickdraw_dataset/full/numpy_bitmap/blueberry.npy...\n",
            "Copying gs://quickdraw_dataset/full/numpy_bitmap/book.npy...\n",
            "Copying gs://quickdraw_dataset/full/numpy_bitmap/boomerang.npy...\n",
            "Copying gs://quickdraw_dataset/full/numpy_bitmap/bottlecap.npy...\n",
            "Copying gs://quickdraw_dataset/full/numpy_bitmap/bowtie.npy...\n",
            "Copying gs://quickdraw_dataset/full/numpy_bitmap/bracelet.npy...\n",
            "Copying gs://quickdraw_dataset/full/numpy_bitmap/brain.npy...\n",
            "Copying gs://quickdraw_dataset/full/numpy_bitmap/bread.npy...\n",
            "Copying gs://quickdraw_dataset/full/numpy_bitmap/bridge.npy...\n",
            "Copying gs://quickdraw_dataset/full/numpy_bitmap/broccoli.npy...\n",
            "Copying gs://quickdraw_dataset/full/numpy_bitmap/broom.npy...\n",
            "Copying gs://quickdraw_dataset/full/numpy_bitmap/bucket.npy...\n",
            "Copying gs://quickdraw_dataset/full/numpy_bitmap/bulldozer.npy...\n",
            "Copying gs://quickdraw_dataset/full/numpy_bitmap/bus.npy...\n",
            "Copying gs://quickdraw_dataset/full/numpy_bitmap/bush.npy...\n",
            "Copying gs://quickdraw_dataset/full/numpy_bitmap/butterfly.npy...\n",
            "Copying gs://quickdraw_dataset/full/numpy_bitmap/cactus.npy...\n",
            "Copying gs://quickdraw_dataset/full/numpy_bitmap/cake.npy...\n",
            "Copying gs://quickdraw_dataset/full/numpy_bitmap/calculator.npy...\n",
            "Copying gs://quickdraw_dataset/full/numpy_bitmap/calendar.npy...\n",
            "Copying gs://quickdraw_dataset/full/numpy_bitmap/camel.npy...\n",
            "Copying gs://quickdraw_dataset/full/numpy_bitmap/camera.npy...\n",
            "Copying gs://quickdraw_dataset/full/numpy_bitmap/camouflage.npy...\n",
            "Copying gs://quickdraw_dataset/full/numpy_bitmap/campfire.npy...\n",
            "Copying gs://quickdraw_dataset/full/numpy_bitmap/candle.npy...\n",
            "Copying gs://quickdraw_dataset/full/numpy_bitmap/cannon.npy...\n",
            "Copying gs://quickdraw_dataset/full/numpy_bitmap/canoe.npy...\n",
            "Copying gs://quickdraw_dataset/full/numpy_bitmap/car.npy...\n",
            "Copying gs://quickdraw_dataset/full/numpy_bitmap/carrot.npy...\n",
            "Copying gs://quickdraw_dataset/full/numpy_bitmap/castle.npy...\n",
            "Copying gs://quickdraw_dataset/full/numpy_bitmap/cat.npy...\n",
            "Copying gs://quickdraw_dataset/full/numpy_bitmap/ceiling fan.npy...\n",
            "Copying gs://quickdraw_dataset/full/numpy_bitmap/cell phone.npy...\n",
            "Copying gs://quickdraw_dataset/full/numpy_bitmap/cello.npy...\n",
            "Copying gs://quickdraw_dataset/full/numpy_bitmap/chair.npy...\n",
            "Copying gs://quickdraw_dataset/full/numpy_bitmap/chandelier.npy...\n",
            "Copying gs://quickdraw_dataset/full/numpy_bitmap/church.npy...\n",
            "Copying gs://quickdraw_dataset/full/numpy_bitmap/circle.npy...\n",
            "Copying gs://quickdraw_dataset/full/numpy_bitmap/clarinet.npy...\n",
            "Copying gs://quickdraw_dataset/full/numpy_bitmap/clock.npy...\n",
            "Copying gs://quickdraw_dataset/full/numpy_bitmap/cloud.npy...\n",
            "Copying gs://quickdraw_dataset/full/numpy_bitmap/coffee cup.npy...\n",
            "Copying gs://quickdraw_dataset/full/numpy_bitmap/compass.npy...\n",
            "Copying gs://quickdraw_dataset/full/numpy_bitmap/computer.npy...\n",
            "Copying gs://quickdraw_dataset/full/numpy_bitmap/cookie.npy...\n",
            "Copying gs://quickdraw_dataset/full/numpy_bitmap/cooler.npy...\n",
            "Copying gs://quickdraw_dataset/full/numpy_bitmap/couch.npy...\n",
            "Copying gs://quickdraw_dataset/full/numpy_bitmap/cow.npy...\n",
            "Copying gs://quickdraw_dataset/full/numpy_bitmap/crab.npy...\n",
            "Copying gs://quickdraw_dataset/full/numpy_bitmap/crayon.npy...\n",
            "Copying gs://quickdraw_dataset/full/numpy_bitmap/crocodile.npy...\n",
            "Copying gs://quickdraw_dataset/full/numpy_bitmap/crown.npy...\n",
            "Copying gs://quickdraw_dataset/full/numpy_bitmap/cruise ship.npy...\n",
            "Copying gs://quickdraw_dataset/full/numpy_bitmap/cup.npy...\n",
            "Copying gs://quickdraw_dataset/full/numpy_bitmap/diamond.npy...\n",
            "Copying gs://quickdraw_dataset/full/numpy_bitmap/dishwasher.npy...\n",
            "Copying gs://quickdraw_dataset/full/numpy_bitmap/diving board.npy...\n",
            "Copying gs://quickdraw_dataset/full/numpy_bitmap/dog.npy...\n",
            "Copying gs://quickdraw_dataset/full/numpy_bitmap/dolphin.npy...\n",
            "Copying gs://quickdraw_dataset/full/numpy_bitmap/donut.npy...\n",
            "Copying gs://quickdraw_dataset/full/numpy_bitmap/door.npy...\n",
            "Copying gs://quickdraw_dataset/full/numpy_bitmap/dragon.npy...\n",
            "Copying gs://quickdraw_dataset/full/numpy_bitmap/dresser.npy...\n",
            "Copying gs://quickdraw_dataset/full/numpy_bitmap/drill.npy...\n",
            "Copying gs://quickdraw_dataset/full/numpy_bitmap/drums.npy...\n",
            "Copying gs://quickdraw_dataset/full/numpy_bitmap/duck.npy...\n",
            "Copying gs://quickdraw_dataset/full/numpy_bitmap/dumbbell.npy...\n",
            "Copying gs://quickdraw_dataset/full/numpy_bitmap/ear.npy...\n",
            "Copying gs://quickdraw_dataset/full/numpy_bitmap/elbow.npy...\n",
            "Copying gs://quickdraw_dataset/full/numpy_bitmap/elephant.npy...\n",
            "Copying gs://quickdraw_dataset/full/numpy_bitmap/envelope.npy...\n",
            "Copying gs://quickdraw_dataset/full/numpy_bitmap/eraser.npy...\n",
            "Copying gs://quickdraw_dataset/full/numpy_bitmap/eye.npy...\n",
            "Copying gs://quickdraw_dataset/full/numpy_bitmap/eyeglasses.npy...\n",
            "Copying gs://quickdraw_dataset/full/numpy_bitmap/face.npy...\n",
            "Copying gs://quickdraw_dataset/full/numpy_bitmap/fan.npy...\n",
            "Copying gs://quickdraw_dataset/full/numpy_bitmap/feather.npy...\n",
            "Copying gs://quickdraw_dataset/full/numpy_bitmap/fence.npy...\n",
            "Copying gs://quickdraw_dataset/full/numpy_bitmap/finger.npy...\n",
            "Copying gs://quickdraw_dataset/full/numpy_bitmap/fire hydrant.npy...\n",
            "Copying gs://quickdraw_dataset/full/numpy_bitmap/fireplace.npy...\n",
            "Copying gs://quickdraw_dataset/full/numpy_bitmap/firetruck.npy...\n",
            "Copying gs://quickdraw_dataset/full/numpy_bitmap/fish.npy...\n",
            "Copying gs://quickdraw_dataset/full/numpy_bitmap/flamingo.npy...\n",
            "Copying gs://quickdraw_dataset/full/numpy_bitmap/flashlight.npy...\n",
            "Copying gs://quickdraw_dataset/full/numpy_bitmap/flip flops.npy...\n",
            "Copying gs://quickdraw_dataset/full/numpy_bitmap/floor lamp.npy...\n",
            "Copying gs://quickdraw_dataset/full/numpy_bitmap/flower.npy...\n",
            "Copying gs://quickdraw_dataset/full/numpy_bitmap/flying saucer.npy...\n",
            "Copying gs://quickdraw_dataset/full/numpy_bitmap/foot.npy...\n",
            "Copying gs://quickdraw_dataset/full/numpy_bitmap/fork.npy...\n",
            "Copying gs://quickdraw_dataset/full/numpy_bitmap/frog.npy...\n",
            "Copying gs://quickdraw_dataset/full/numpy_bitmap/frying pan.npy...\n",
            "Copying gs://quickdraw_dataset/full/numpy_bitmap/garden hose.npy...\n",
            "Copying gs://quickdraw_dataset/full/numpy_bitmap/garden.npy...\n",
            "Copying gs://quickdraw_dataset/full/numpy_bitmap/giraffe.npy...\n",
            "Copying gs://quickdraw_dataset/full/numpy_bitmap/goatee.npy...\n",
            "Copying gs://quickdraw_dataset/full/numpy_bitmap/golf club.npy...\n",
            "Copying gs://quickdraw_dataset/full/numpy_bitmap/grapes.npy...\n",
            "Copying gs://quickdraw_dataset/full/numpy_bitmap/grass.npy...\n",
            "Copying gs://quickdraw_dataset/full/numpy_bitmap/guitar.npy...\n",
            "Copying gs://quickdraw_dataset/full/numpy_bitmap/hamburger.npy...\n",
            "Copying gs://quickdraw_dataset/full/numpy_bitmap/hammer.npy...\n",
            "Copying gs://quickdraw_dataset/full/numpy_bitmap/hand.npy...\n",
            "Copying gs://quickdraw_dataset/full/numpy_bitmap/harp.npy...\n",
            "Copying gs://quickdraw_dataset/full/numpy_bitmap/hat.npy...\n",
            "Copying gs://quickdraw_dataset/full/numpy_bitmap/headphones.npy...\n",
            "Copying gs://quickdraw_dataset/full/numpy_bitmap/hedgehog.npy...\n",
            "Copying gs://quickdraw_dataset/full/numpy_bitmap/helicopter.npy...\n",
            "Copying gs://quickdraw_dataset/full/numpy_bitmap/helmet.npy...\n",
            "Copying gs://quickdraw_dataset/full/numpy_bitmap/hexagon.npy...\n",
            "Copying gs://quickdraw_dataset/full/numpy_bitmap/hockey puck.npy...\n",
            "Copying gs://quickdraw_dataset/full/numpy_bitmap/hockey stick.npy...\n",
            "Copying gs://quickdraw_dataset/full/numpy_bitmap/horse.npy...\n",
            "Copying gs://quickdraw_dataset/full/numpy_bitmap/hospital.npy...\n",
            "Copying gs://quickdraw_dataset/full/numpy_bitmap/hot air balloon.npy...\n",
            "Copying gs://quickdraw_dataset/full/numpy_bitmap/hot dog.npy...\n",
            "Copying gs://quickdraw_dataset/full/numpy_bitmap/hot tub.npy...\n",
            "Copying gs://quickdraw_dataset/full/numpy_bitmap/hourglass.npy...\n",
            "Copying gs://quickdraw_dataset/full/numpy_bitmap/house plant.npy...\n",
            "Copying gs://quickdraw_dataset/full/numpy_bitmap/house.npy...\n",
            "Copying gs://quickdraw_dataset/full/numpy_bitmap/hurricane.npy...\n",
            "Copying gs://quickdraw_dataset/full/numpy_bitmap/ice cream.npy...\n",
            "Copying gs://quickdraw_dataset/full/numpy_bitmap/jacket.npy...\n",
            "Copying gs://quickdraw_dataset/full/numpy_bitmap/jail.npy...\n",
            "Copying gs://quickdraw_dataset/full/numpy_bitmap/kangaroo.npy...\n",
            "Copying gs://quickdraw_dataset/full/numpy_bitmap/key.npy...\n",
            "Copying gs://quickdraw_dataset/full/numpy_bitmap/keyboard.npy...\n",
            "Copying gs://quickdraw_dataset/full/numpy_bitmap/knee.npy...\n",
            "Copying gs://quickdraw_dataset/full/numpy_bitmap/knife.npy...\n",
            "Copying gs://quickdraw_dataset/full/numpy_bitmap/ladder.npy...\n",
            "Copying gs://quickdraw_dataset/full/numpy_bitmap/lantern.npy...\n",
            "Copying gs://quickdraw_dataset/full/numpy_bitmap/laptop.npy...\n",
            "Copying gs://quickdraw_dataset/full/numpy_bitmap/leaf.npy...\n",
            "Copying gs://quickdraw_dataset/full/numpy_bitmap/leg.npy...\n",
            "Copying gs://quickdraw_dataset/full/numpy_bitmap/light bulb.npy...\n",
            "Copying gs://quickdraw_dataset/full/numpy_bitmap/lighter.npy...\n",
            "Copying gs://quickdraw_dataset/full/numpy_bitmap/lighthouse.npy...\n",
            "Copying gs://quickdraw_dataset/full/numpy_bitmap/lightning.npy...\n",
            "Copying gs://quickdraw_dataset/full/numpy_bitmap/line.npy...\n",
            "Copying gs://quickdraw_dataset/full/numpy_bitmap/lion.npy...\n",
            "Copying gs://quickdraw_dataset/full/numpy_bitmap/lipstick.npy...\n",
            "Copying gs://quickdraw_dataset/full/numpy_bitmap/lobster.npy...\n",
            "Copying gs://quickdraw_dataset/full/numpy_bitmap/lollipop.npy...\n",
            "Copying gs://quickdraw_dataset/full/numpy_bitmap/mailbox.npy...\n",
            "Copying gs://quickdraw_dataset/full/numpy_bitmap/map.npy...\n",
            "Copying gs://quickdraw_dataset/full/numpy_bitmap/marker.npy...\n",
            "Copying gs://quickdraw_dataset/full/numpy_bitmap/matches.npy...\n",
            "Copying gs://quickdraw_dataset/full/numpy_bitmap/megaphone.npy...\n",
            "Copying gs://quickdraw_dataset/full/numpy_bitmap/mermaid.npy...\n",
            "Copying gs://quickdraw_dataset/full/numpy_bitmap/microphone.npy...\n",
            "Copying gs://quickdraw_dataset/full/numpy_bitmap/microwave.npy...\n",
            "Copying gs://quickdraw_dataset/full/numpy_bitmap/monkey.npy...\n",
            "Copying gs://quickdraw_dataset/full/numpy_bitmap/moon.npy...\n",
            "Copying gs://quickdraw_dataset/full/numpy_bitmap/mosquito.npy...\n",
            "Copying gs://quickdraw_dataset/full/numpy_bitmap/motorbike.npy...\n",
            "Copying gs://quickdraw_dataset/full/numpy_bitmap/mountain.npy...\n",
            "Copying gs://quickdraw_dataset/full/numpy_bitmap/mouse.npy...\n",
            "Copying gs://quickdraw_dataset/full/numpy_bitmap/moustache.npy...\n",
            "Copying gs://quickdraw_dataset/full/numpy_bitmap/mouth.npy...\n",
            "Copying gs://quickdraw_dataset/full/numpy_bitmap/mug.npy...\n",
            "Copying gs://quickdraw_dataset/full/numpy_bitmap/mushroom.npy...\n",
            "Copying gs://quickdraw_dataset/full/numpy_bitmap/nail.npy...\n",
            "Copying gs://quickdraw_dataset/full/numpy_bitmap/necklace.npy...\n",
            "Copying gs://quickdraw_dataset/full/numpy_bitmap/nose.npy...\n",
            "Copying gs://quickdraw_dataset/full/numpy_bitmap/ocean.npy...\n",
            "Copying gs://quickdraw_dataset/full/numpy_bitmap/octagon.npy...\n",
            "Copying gs://quickdraw_dataset/full/numpy_bitmap/octopus.npy...\n",
            "Copying gs://quickdraw_dataset/full/numpy_bitmap/onion.npy...\n",
            "Copying gs://quickdraw_dataset/full/numpy_bitmap/oven.npy...\n",
            "Copying gs://quickdraw_dataset/full/numpy_bitmap/owl.npy...\n",
            "Copying gs://quickdraw_dataset/full/numpy_bitmap/paint can.npy...\n",
            "Copying gs://quickdraw_dataset/full/numpy_bitmap/paintbrush.npy...\n",
            "Copying gs://quickdraw_dataset/full/numpy_bitmap/palm tree.npy...\n",
            "Copying gs://quickdraw_dataset/full/numpy_bitmap/panda.npy...\n",
            "Copying gs://quickdraw_dataset/full/numpy_bitmap/pants.npy...\n",
            "Copying gs://quickdraw_dataset/full/numpy_bitmap/paper clip.npy...\n",
            "Copying gs://quickdraw_dataset/full/numpy_bitmap/parachute.npy...\n",
            "Copying gs://quickdraw_dataset/full/numpy_bitmap/parrot.npy...\n",
            "Copying gs://quickdraw_dataset/full/numpy_bitmap/passport.npy...\n",
            "Copying gs://quickdraw_dataset/full/numpy_bitmap/peanut.npy...\n",
            "Copying gs://quickdraw_dataset/full/numpy_bitmap/pear.npy...\n",
            "Copying gs://quickdraw_dataset/full/numpy_bitmap/peas.npy...\n",
            "Copying gs://quickdraw_dataset/full/numpy_bitmap/pencil.npy...\n",
            "Copying gs://quickdraw_dataset/full/numpy_bitmap/penguin.npy...\n",
            "Copying gs://quickdraw_dataset/full/numpy_bitmap/piano.npy...\n",
            "Copying gs://quickdraw_dataset/full/numpy_bitmap/pickup truck.npy...\n",
            "Copying gs://quickdraw_dataset/full/numpy_bitmap/picture frame.npy...\n",
            "Copying gs://quickdraw_dataset/full/numpy_bitmap/pig.npy...\n",
            "Copying gs://quickdraw_dataset/full/numpy_bitmap/pillow.npy...\n",
            "Copying gs://quickdraw_dataset/full/numpy_bitmap/pineapple.npy...\n",
            "Copying gs://quickdraw_dataset/full/numpy_bitmap/pizza.npy...\n",
            "Copying gs://quickdraw_dataset/full/numpy_bitmap/pliers.npy...\n",
            "Copying gs://quickdraw_dataset/full/numpy_bitmap/police car.npy...\n",
            "Copying gs://quickdraw_dataset/full/numpy_bitmap/pond.npy...\n",
            "Copying gs://quickdraw_dataset/full/numpy_bitmap/pool.npy...\n",
            "Copying gs://quickdraw_dataset/full/numpy_bitmap/popsicle.npy...\n",
            "Copying gs://quickdraw_dataset/full/numpy_bitmap/postcard.npy...\n",
            "Copying gs://quickdraw_dataset/full/numpy_bitmap/potato.npy...\n",
            "Copying gs://quickdraw_dataset/full/numpy_bitmap/power outlet.npy...\n",
            "Copying gs://quickdraw_dataset/full/numpy_bitmap/purse.npy...\n",
            "Copying gs://quickdraw_dataset/full/numpy_bitmap/rabbit.npy...\n",
            "Copying gs://quickdraw_dataset/full/numpy_bitmap/raccoon.npy...\n",
            "Copying gs://quickdraw_dataset/full/numpy_bitmap/radio.npy...\n",
            "Copying gs://quickdraw_dataset/full/numpy_bitmap/rain.npy...\n",
            "Copying gs://quickdraw_dataset/full/numpy_bitmap/rainbow.npy...\n",
            "Copying gs://quickdraw_dataset/full/numpy_bitmap/rake.npy...\n",
            "Copying gs://quickdraw_dataset/full/numpy_bitmap/remote control.npy...\n",
            "Copying gs://quickdraw_dataset/full/numpy_bitmap/rhinoceros.npy...\n",
            "Copying gs://quickdraw_dataset/full/numpy_bitmap/rifle.npy...\n",
            "Copying gs://quickdraw_dataset/full/numpy_bitmap/river.npy...\n",
            "Copying gs://quickdraw_dataset/full/numpy_bitmap/roller coaster.npy...\n",
            "Copying gs://quickdraw_dataset/full/numpy_bitmap/rollerskates.npy...\n",
            "Copying gs://quickdraw_dataset/full/numpy_bitmap/sailboat.npy...\n",
            "Copying gs://quickdraw_dataset/full/numpy_bitmap/sandwich.npy...\n",
            "Copying gs://quickdraw_dataset/full/numpy_bitmap/saw.npy...\n",
            "Copying gs://quickdraw_dataset/full/numpy_bitmap/saxophone.npy...\n",
            "Copying gs://quickdraw_dataset/full/numpy_bitmap/school bus.npy...\n",
            "Copying gs://quickdraw_dataset/full/numpy_bitmap/scissors.npy...\n",
            "Copying gs://quickdraw_dataset/full/numpy_bitmap/scorpion.npy...\n",
            "Copying gs://quickdraw_dataset/full/numpy_bitmap/screwdriver.npy...\n",
            "Copying gs://quickdraw_dataset/full/numpy_bitmap/sea turtle.npy...\n",
            "Copying gs://quickdraw_dataset/full/numpy_bitmap/see saw.npy...\n",
            "Copying gs://quickdraw_dataset/full/numpy_bitmap/shark.npy...\n",
            "Copying gs://quickdraw_dataset/full/numpy_bitmap/sheep.npy...\n",
            "Copying gs://quickdraw_dataset/full/numpy_bitmap/shoe.npy...\n",
            "Copying gs://quickdraw_dataset/full/numpy_bitmap/shorts.npy...\n",
            "Copying gs://quickdraw_dataset/full/numpy_bitmap/shovel.npy...\n",
            "Copying gs://quickdraw_dataset/full/numpy_bitmap/sink.npy...\n",
            "Copying gs://quickdraw_dataset/full/numpy_bitmap/skateboard.npy...\n",
            "Copying gs://quickdraw_dataset/full/numpy_bitmap/skull.npy...\n",
            "Copying gs://quickdraw_dataset/full/numpy_bitmap/skyscraper.npy...\n",
            "Copying gs://quickdraw_dataset/full/numpy_bitmap/sleeping bag.npy...\n",
            "Copying gs://quickdraw_dataset/full/numpy_bitmap/smiley face.npy...\n",
            "Copying gs://quickdraw_dataset/full/numpy_bitmap/snail.npy...\n",
            "Copying gs://quickdraw_dataset/full/numpy_bitmap/snake.npy...\n",
            "Copying gs://quickdraw_dataset/full/numpy_bitmap/snorkel.npy...\n",
            "Copying gs://quickdraw_dataset/full/numpy_bitmap/snowflake.npy...\n",
            "Copying gs://quickdraw_dataset/full/numpy_bitmap/snowman.npy...\n",
            "Copying gs://quickdraw_dataset/full/numpy_bitmap/soccer ball.npy...\n",
            "Copying gs://quickdraw_dataset/full/numpy_bitmap/sock.npy...\n",
            "Copying gs://quickdraw_dataset/full/numpy_bitmap/speedboat.npy...\n",
            "Copying gs://quickdraw_dataset/full/numpy_bitmap/spider.npy...\n",
            "Copying gs://quickdraw_dataset/full/numpy_bitmap/spoon.npy...\n",
            "Copying gs://quickdraw_dataset/full/numpy_bitmap/spreadsheet.npy...\n",
            "Copying gs://quickdraw_dataset/full/numpy_bitmap/square.npy...\n",
            "Copying gs://quickdraw_dataset/full/numpy_bitmap/squiggle.npy...\n",
            "Copying gs://quickdraw_dataset/full/numpy_bitmap/squirrel.npy...\n",
            "Copying gs://quickdraw_dataset/full/numpy_bitmap/stairs.npy...\n",
            "Copying gs://quickdraw_dataset/full/numpy_bitmap/star.npy...\n",
            "Copying gs://quickdraw_dataset/full/numpy_bitmap/steak.npy...\n",
            "Copying gs://quickdraw_dataset/full/numpy_bitmap/stereo.npy...\n",
            "Copying gs://quickdraw_dataset/full/numpy_bitmap/stethoscope.npy...\n",
            "Copying gs://quickdraw_dataset/full/numpy_bitmap/stitches.npy...\n",
            "Copying gs://quickdraw_dataset/full/numpy_bitmap/stop sign.npy...\n",
            "Copying gs://quickdraw_dataset/full/numpy_bitmap/stove.npy...\n",
            "Copying gs://quickdraw_dataset/full/numpy_bitmap/strawberry.npy...\n",
            "Copying gs://quickdraw_dataset/full/numpy_bitmap/streetlight.npy...\n",
            "Copying gs://quickdraw_dataset/full/numpy_bitmap/string bean.npy...\n",
            "Copying gs://quickdraw_dataset/full/numpy_bitmap/submarine.npy...\n",
            "Copying gs://quickdraw_dataset/full/numpy_bitmap/suitcase.npy...\n",
            "Copying gs://quickdraw_dataset/full/numpy_bitmap/sun.npy...\n",
            "Copying gs://quickdraw_dataset/full/numpy_bitmap/swan.npy...\n",
            "Copying gs://quickdraw_dataset/full/numpy_bitmap/sweater.npy...\n",
            "Copying gs://quickdraw_dataset/full/numpy_bitmap/swing set.npy...\n",
            "Copying gs://quickdraw_dataset/full/numpy_bitmap/sword.npy...\n",
            "Copying gs://quickdraw_dataset/full/numpy_bitmap/syringe.npy...\n",
            "Copying gs://quickdraw_dataset/full/numpy_bitmap/t-shirt.npy...\n",
            "Copying gs://quickdraw_dataset/full/numpy_bitmap/table.npy...\n",
            "Copying gs://quickdraw_dataset/full/numpy_bitmap/teapot.npy...\n",
            "Copying gs://quickdraw_dataset/full/numpy_bitmap/teddy-bear.npy...\n",
            "Copying gs://quickdraw_dataset/full/numpy_bitmap/telephone.npy...\n",
            "Copying gs://quickdraw_dataset/full/numpy_bitmap/television.npy...\n",
            "Copying gs://quickdraw_dataset/full/numpy_bitmap/tennis racquet.npy...\n",
            "Copying gs://quickdraw_dataset/full/numpy_bitmap/tent.npy...\n",
            "Copying gs://quickdraw_dataset/full/numpy_bitmap/tiger.npy...\n",
            "Copying gs://quickdraw_dataset/full/numpy_bitmap/toaster.npy...\n",
            "Copying gs://quickdraw_dataset/full/numpy_bitmap/toe.npy...\n",
            "Copying gs://quickdraw_dataset/full/numpy_bitmap/toilet.npy...\n",
            "Copying gs://quickdraw_dataset/full/numpy_bitmap/tooth.npy...\n",
            "Copying gs://quickdraw_dataset/full/numpy_bitmap/toothbrush.npy...\n",
            "Copying gs://quickdraw_dataset/full/numpy_bitmap/toothpaste.npy...\n",
            "Copying gs://quickdraw_dataset/full/numpy_bitmap/tornado.npy...\n",
            "Copying gs://quickdraw_dataset/full/numpy_bitmap/tractor.npy...\n",
            "Copying gs://quickdraw_dataset/full/numpy_bitmap/traffic light.npy...\n",
            "Copying gs://quickdraw_dataset/full/numpy_bitmap/train.npy...\n",
            "Copying gs://quickdraw_dataset/full/numpy_bitmap/tree.npy...\n",
            "Copying gs://quickdraw_dataset/full/numpy_bitmap/triangle.npy...\n",
            "Copying gs://quickdraw_dataset/full/numpy_bitmap/trombone.npy...\n",
            "Copying gs://quickdraw_dataset/full/numpy_bitmap/truck.npy...\n",
            "Copying gs://quickdraw_dataset/full/numpy_bitmap/trumpet.npy...\n",
            "Copying gs://quickdraw_dataset/full/numpy_bitmap/umbrella.npy...\n",
            "Copying gs://quickdraw_dataset/full/numpy_bitmap/underwear.npy...\n",
            "Copying gs://quickdraw_dataset/full/numpy_bitmap/van.npy...\n",
            "Copying gs://quickdraw_dataset/full/numpy_bitmap/vase.npy...\n",
            "Copying gs://quickdraw_dataset/full/numpy_bitmap/violin.npy...\n",
            "Copying gs://quickdraw_dataset/full/numpy_bitmap/washing machine.npy...\n",
            "Copying gs://quickdraw_dataset/full/numpy_bitmap/watermelon.npy...\n",
            "Copying gs://quickdraw_dataset/full/numpy_bitmap/waterslide.npy...\n",
            "Copying gs://quickdraw_dataset/full/numpy_bitmap/whale.npy...\n",
            "Copying gs://quickdraw_dataset/full/numpy_bitmap/wheel.npy...\n",
            "Copying gs://quickdraw_dataset/full/numpy_bitmap/windmill.npy...\n",
            "Copying gs://quickdraw_dataset/full/numpy_bitmap/wine bottle.npy...\n",
            "Copying gs://quickdraw_dataset/full/numpy_bitmap/wine glass.npy...\n",
            "Copying gs://quickdraw_dataset/full/numpy_bitmap/wristwatch.npy...\n",
            "Copying gs://quickdraw_dataset/full/numpy_bitmap/yoga.npy...\n",
            "Copying gs://quickdraw_dataset/full/numpy_bitmap/zebra.npy...\n",
            "Copying gs://quickdraw_dataset/full/numpy_bitmap/zigzag.npy...\n",
            "| [345/345 files][ 36.8 GiB/ 36.8 GiB] 100% Done  31.0 MiB/s ETA 00:00:00       \n",
            "Operation completed over 345 objects/36.8 GiB.                                   \n"
          ],
          "name": "stdout"
        }
      ]
    },
    {
      "metadata": {
        "id": "lu0vNJTsOAKA",
        "colab_type": "code",
        "colab": {
          "base_uri": "https://localhost:8080/",
          "height": 4386
        },
        "outputId": "51500741-3ecb-47e7-a5e6-46bd9997107d"
      },
      "cell_type": "code",
      "source": [
        "!ls ./data"
      ],
      "execution_count": 4,
      "outputs": [
        {
          "output_type": "stream",
          "text": [
            "'aircraft carrier.ndjson'     garden.npy\n",
            "'aircraft carrier.npy'\t      giraffe.ndjson\n",
            " airplane.ndjson\t      giraffe.npy\n",
            " airplane.npy\t\t      goatee.ndjson\n",
            "'alarm clock.ndjson'\t      goatee.npy\n",
            "'alarm clock.npy'\t     'golf club.ndjson'\n",
            " ambulance.ndjson\t     'golf club.npy'\n",
            " ambulance.npy\t\t      grapes.ndjson\n",
            " angel.ndjson\t\t      grapes.npy\n",
            " angel.npy\t\t      grass.ndjson\n",
            "'animal migration.ndjson'     grass.npy\n",
            "'animal migration.npy'\t      guitar.ndjson\n",
            " ant.ndjson\t\t      guitar.npy\n",
            " ant.npy\t\t      hamburger.ndjson\n",
            " anvil.ndjson\t\t      hamburger.npy\n",
            " anvil.npy\t\t      hammer.ndjson\n",
            " apple.ndjson\t\t      hammer.npy\n",
            " apple.npy\t\t      hand.ndjson\n",
            " arm.ndjson\t\t      hand.npy\n",
            " arm.npy\t\t      harp.ndjson\n",
            " asparagus.ndjson\t      harp.npy\n",
            " asparagus.npy\t\t      hat.ndjson\n",
            " axe.ndjson\t\t      hat.npy\n",
            " axe.npy\t\t      headphones.ndjson\n",
            " backpack.ndjson\t      headphones.npy\n",
            " backpack.npy\t\t      hedgehog.ndjson\n",
            " banana.ndjson\t\t      hedgehog.npy\n",
            " banana.npy\t\t      helicopter.ndjson\n",
            " bandage.ndjson\t\t      helicopter.npy\n",
            " bandage.npy\t\t      helmet.ndjson\n",
            " barn.ndjson\t\t      helmet.npy\n",
            " barn.npy\t\t      hexagon.ndjson\n",
            "'baseball bat.ndjson'\t      hexagon.npy\n",
            "'baseball bat.npy'\t     'hockey puck.ndjson'\n",
            " baseball.ndjson\t     'hockey puck.npy'\n",
            " baseball.npy\t\t     'hockey stick.ndjson'\n",
            " basketball.ndjson\t     'hockey stick.npy'\n",
            " basketball.npy\t\t      horse.ndjson\n",
            " basket.ndjson\t\t      horse.npy\n",
            " basket.npy\t\t      hospital.ndjson\n",
            " bathtub.ndjson\t\t      hospital.npy\n",
            " bathtub.npy\t\t     'hot air balloon.ndjson'\n",
            " bat.ndjson\t\t     'hot air balloon.npy'\n",
            " bat.npy\t\t     'hot dog.ndjson'\n",
            " beach.ndjson\t\t     'hot dog.npy'\n",
            " beach.npy\t\t     'hot tub.ndjson'\n",
            " beard.ndjson\t\t     'hot tub.npy'\n",
            " beard.npy\t\t      hourglass.ndjson\n",
            " bear.ndjson\t\t      hourglass.npy\n",
            " bear.npy\t\t      house.ndjson\n",
            " bed.ndjson\t\t      house.npy\n",
            " bed.npy\t\t     'house plant.ndjson'\n",
            " bee.ndjson\t\t     'house plant.npy'\n",
            " bee.npy\t\t      hurricane.ndjson\n",
            " belt.ndjson\t\t      hurricane.npy\n",
            " belt.npy\t\t     'ice cream.ndjson_.gstmp'\n",
            " bench.ndjson\t\t     'ice cream.npy'\n",
            " bench.npy\t\t      jacket.ndjson_.gstmp\n",
            " bicycle.ndjson\t\t      jacket.npy\n",
            " bicycle.npy\t\t      jail.ndjson_.gstmp\n",
            " binoculars.ndjson\t      jail.npy\n",
            " binoculars.npy\t\t      kangaroo.ndjson_.gstmp\n",
            " bird.ndjson\t\t      kangaroo.npy\n",
            " bird.npy\t\t      keyboard.ndjson_.gstmp\n",
            "'birthday cake.ndjson'\t      keyboard.npy\n",
            "'birthday cake.npy'\t      key.ndjson_.gstmp\n",
            " blackberry.ndjson\t      key.npy\n",
            " blackberry.npy\t\t      knee.ndjson_.gstmp\n",
            " blueberry.ndjson\t      knee.npy\n",
            " blueberry.npy\t\t      knife.ndjson_.gstmp\n",
            " book.ndjson\t\t      knife.npy\n",
            " book.npy\t\t      ladder.ndjson_.gstmp\n",
            " boomerang.ndjson\t      ladder.npy\n",
            " boomerang.npy\t\t      lantern.ndjson_.gstmp\n",
            " bottlecap.ndjson\t      lantern.npy\n",
            " bottlecap.npy\t\t      laptop.npy\n",
            " bowtie.ndjson\t\t      leaf.npy\n",
            " bowtie.npy\t\t      leg.npy\n",
            " bracelet.ndjson\t     'light bulb.npy'\n",
            " bracelet.npy\t\t      lighter.npy\n",
            " brain.ndjson\t\t      lighthouse.npy\n",
            " brain.npy\t\t      lightning.npy\n",
            " bread.ndjson\t\t      line.npy\n",
            " bread.npy\t\t      lion.npy\n",
            " bridge.ndjson\t\t      lipstick.npy\n",
            " bridge.npy\t\t      lobster.npy\n",
            " broccoli.ndjson\t      lollipop.npy\n",
            " broccoli.npy\t\t      mailbox.npy\n",
            " broom.ndjson\t\t      map.npy\n",
            " broom.npy\t\t      marker.npy\n",
            " bucket.ndjson\t\t      matches.npy\n",
            " bucket.npy\t\t      megaphone.npy\n",
            " bulldozer.ndjson\t      mermaid.npy\n",
            " bulldozer.npy\t\t      microphone.npy\n",
            " bush.ndjson\t\t      microwave.npy\n",
            " bush.npy\t\t      monkey.npy\n",
            " bus.ndjson\t\t      moon.npy\n",
            " bus.npy\t\t      mosquito.npy\n",
            " butterfly.ndjson\t      motorbike.npy\n",
            " butterfly.npy\t\t      mountain.npy\n",
            " cactus.ndjson\t\t      mouse.npy\n",
            " cactus.npy\t\t      moustache.npy\n",
            " cake.ndjson\t\t      mouth.npy\n",
            " cake.npy\t\t      mug.npy\n",
            " calculator.ndjson\t      mushroom.npy\n",
            " calculator.npy\t\t      nail.npy\n",
            " calendar.ndjson\t      necklace.npy\n",
            " calendar.npy\t\t      nose.npy\n",
            " camel.ndjson\t\t      ocean.npy\n",
            " camel.npy\t\t      octagon.npy\n",
            " camera.ndjson\t\t      octopus.npy\n",
            " camera.npy\t\t      onion.npy\n",
            " camouflage.ndjson\t      oven.npy\n",
            " camouflage.npy\t\t      owl.npy\n",
            " campfire.ndjson\t      paintbrush.npy\n",
            " campfire.npy\t\t     'paint can.npy'\n",
            " candle.ndjson\t\t     'palm tree.npy'\n",
            " candle.npy\t\t      panda.npy\n",
            " cannon.ndjson\t\t      pants.npy\n",
            " cannon.npy\t\t     'paper clip.npy'\n",
            " canoe.ndjson\t\t      parachute.npy\n",
            " canoe.npy\t\t      parrot.npy\n",
            " car.ndjson\t\t      passport.npy\n",
            " car.npy\t\t      peanut.npy\n",
            " carrot.ndjson\t\t      pear.npy\n",
            " carrot.npy\t\t      peas.npy\n",
            " castle.ndjson\t\t      pencil.npy\n",
            " castle.npy\t\t      penguin.npy\n",
            " cat.ndjson\t\t      piano.npy\n",
            " cat.npy\t\t     'pickup truck.npy'\n",
            "'ceiling fan.ndjson'\t     'picture frame.npy'\n",
            "'ceiling fan.npy'\t      pig.npy\n",
            " cello.ndjson\t\t      pillow.npy\n",
            " cello.npy\t\t      pineapple.npy\n",
            "'cell phone.ndjson'\t      pizza.npy\n",
            "'cell phone.npy'\t      pliers.npy\n",
            " chair.ndjson\t\t     'police car.npy'\n",
            " chair.npy\t\t      pond.npy\n",
            " chandelier.ndjson\t      pool.npy\n",
            " chandelier.npy\t\t      popsicle.npy\n",
            " church.ndjson\t\t      postcard.npy\n",
            " church.npy\t\t      potato.npy\n",
            " circle.ndjson\t\t     'power outlet.npy'\n",
            " circle.npy\t\t      purse.npy\n",
            " clarinet.ndjson\t      rabbit.npy\n",
            " clarinet.npy\t\t      raccoon.npy\n",
            " clock.ndjson\t\t      radio.npy\n",
            " clock.npy\t\t      rainbow.npy\n",
            " cloud.ndjson\t\t      rain.npy\n",
            " cloud.npy\t\t      rake.npy\n",
            "'coffee cup.ndjson'\t     'remote control.npy'\n",
            "'coffee cup.npy'\t      rhinoceros.npy\n",
            " compass.ndjson\t\t      rifle.npy\n",
            " compass.npy\t\t      river.npy\n",
            " computer.ndjson_.gstmp      'roller coaster.npy'\n",
            " computer.npy\t\t      rollerskates.npy\n",
            " cookie.ndjson_.gstmp\t      sailboat.npy\n",
            " cookie.npy\t\t      sandwich.npy\n",
            " cooler.ndjson_.gstmp\t      saw.npy\n",
            " cooler.npy\t\t      saxophone.npy\n",
            " couch.ndjson_.gstmp\t     'school bus.npy'\n",
            " couch.npy\t\t      scissors.npy\n",
            " cow.ndjson_.gstmp\t      scorpion.npy\n",
            " cow.npy\t\t      screwdriver.npy\n",
            " crab.ndjson_.gstmp\t     'sea turtle.npy'\n",
            " crab.npy\t\t     'see saw.npy'\n",
            " crayon.ndjson_.gstmp\t      shark.npy\n",
            " crayon.npy\t\t      sheep.npy\n",
            " crocodile.ndjson_.gstmp      shoe.npy\n",
            " crocodile.npy\t\t      shorts.npy\n",
            " crown.ndjson_.gstmp\t      shovel.npy\n",
            " crown.npy\t\t      sink.npy\n",
            "'cruise ship.ndjson_.gstmp'   skateboard.npy\n",
            "'cruise ship.npy'\t      skull.npy\n",
            " cup.ndjson\t\t      skyscraper.npy\n",
            " cup.npy\t\t     'sleeping bag.npy'\n",
            " diamond.ndjson\t\t     'smiley face.npy'\n",
            " diamond.npy\t\t      snail.npy\n",
            " dishwasher.ndjson\t      snake.npy\n",
            " dishwasher.npy\t\t      snorkel.npy\n",
            "'diving board.ndjson'\t      snowflake.npy\n",
            "'diving board.npy'\t      snowman.npy\n",
            " dog.ndjson\t\t     'soccer ball.npy'\n",
            " dog.npy\t\t      sock.npy\n",
            " dolphin.ndjson\t\t      speedboat.npy\n",
            " dolphin.npy\t\t      spider.npy\n",
            " donut.ndjson\t\t      spoon.npy\n",
            " donut.npy\t\t      spreadsheet.npy\n",
            " door.ndjson\t\t      square.npy\n",
            " door.npy\t\t      squiggle.npy\n",
            " dragon.ndjson\t\t      squirrel.npy\n",
            " dragon.npy\t\t      stairs.npy\n",
            " dresser.ndjson\t\t      star.npy\n",
            " dresser.npy\t\t      steak.npy\n",
            " drill.ndjson\t\t      stereo.npy\n",
            " drill.npy\t\t      stethoscope.npy\n",
            " drums.ndjson\t\t      stitches.npy\n",
            " drums.npy\t\t     'stop sign.npy'\n",
            " duck.ndjson\t\t      stove.npy\n",
            " duck.npy\t\t      strawberry.npy\n",
            " dumbbell.ndjson\t      streetlight.npy\n",
            " dumbbell.npy\t\t     'string bean.npy'\n",
            " ear.ndjson\t\t      submarine.npy\n",
            " ear.npy\t\t      suitcase.npy\n",
            " elbow.ndjson\t\t      sun.npy\n",
            " elbow.npy\t\t      swan.npy\n",
            " elephant.ndjson\t      sweater.npy\n",
            " elephant.npy\t\t     'swing set.npy'\n",
            " envelope.ndjson\t      sword.npy\n",
            " envelope.npy\t\t      syringe.npy\n",
            " eraser.ndjson\t\t      table.npy\n",
            " eraser.npy\t\t      teapot.npy\n",
            " eyeglasses.ndjson\t      teddy-bear.npy\n",
            " eyeglasses.npy\t\t      telephone.npy\n",
            " eye.ndjson\t\t      television.npy\n",
            " eye.npy\t\t     'tennis racquet.npy'\n",
            " face.ndjson\t\t      tent.npy\n",
            " face.npy\t\t     'The Eiffel Tower.ndjson'\n",
            " fan.ndjson\t\t     'The Eiffel Tower.npy'\n",
            " fan.npy\t\t     'The Great Wall of China.ndjson'\n",
            " feather.ndjson\t\t     'The Great Wall of China.npy'\n",
            " feather.npy\t\t     'The Mona Lisa.ndjson'\n",
            " fence.ndjson\t\t     'The Mona Lisa.npy'\n",
            " fence.npy\t\t      tiger.npy\n",
            " finger.ndjson\t\t      toaster.npy\n",
            " finger.npy\t\t      toe.npy\n",
            "'fire hydrant.ndjson'\t      toilet.npy\n",
            "'fire hydrant.npy'\t      toothbrush.npy\n",
            " fireplace.ndjson\t      tooth.npy\n",
            " fireplace.npy\t\t      toothpaste.npy\n",
            " firetruck.ndjson\t      tornado.npy\n",
            " firetruck.npy\t\t      tractor.npy\n",
            " fish.ndjson\t\t     'traffic light.npy'\n",
            " fish.npy\t\t      train.npy\n",
            " flamingo.ndjson\t      tree.npy\n",
            " flamingo.npy\t\t      triangle.npy\n",
            " flashlight.ndjson\t      trombone.npy\n",
            " flashlight.npy\t\t      truck.npy\n",
            "'flip flops.ndjson'\t      trumpet.npy\n",
            "'flip flops.npy'\t      t-shirt.npy\n",
            "'floor lamp.ndjson'\t      umbrella.npy\n",
            "'floor lamp.npy'\t      underwear.npy\n",
            " flower.ndjson\t\t      van.npy\n",
            " flower.npy\t\t      vase.npy\n",
            "'flying saucer.ndjson'\t      violin.npy\n",
            "'flying saucer.npy'\t     'washing machine.npy'\n",
            " foot.ndjson\t\t      watermelon.npy\n",
            " foot.npy\t\t      waterslide.npy\n",
            " fork.ndjson\t\t      whale.npy\n",
            " fork.npy\t\t      wheel.npy\n",
            " frog.ndjson\t\t      windmill.npy\n",
            " frog.npy\t\t     'wine bottle.npy'\n",
            "'frying pan.ndjson'\t     'wine glass.npy'\n",
            "'frying pan.npy'\t      wristwatch.npy\n",
            "'garden hose.ndjson'\t      yoga.npy\n",
            "'garden hose.npy'\t      zebra.npy\n",
            " garden.ndjson\t\t      zigzag.npy\n"
          ],
          "name": "stdout"
        }
      ]
    },
    {
      "metadata": {
        "id": "R3NEXbbihNvn",
        "colab_type": "code",
        "colab": {}
      },
      "cell_type": "code",
      "source": [
        "alarm = np.load('./data/alarm clock.npy')\n",
        "book = np.load('./data/book.npy')\n",
        "campfire = np.load('./data/campfire.npy')\n",
        "cloud = np.load('./data/cloud.npy')"
      ],
      "execution_count": 0,
      "outputs": []
    },
    {
      "metadata": {
        "id": "l59mCHZLO9I7",
        "colab_type": "code",
        "colab": {}
      },
      "cell_type": "code",
      "source": [
        "data_x = []\n",
        "for i in range(0,10000):\n",
        "    a1=alarm[i].reshape(28,28)\n",
        "    data_x.append(a1)\n",
        "for i in range(0,10000):\n",
        "    a1=book[i].reshape(28,28)\n",
        "    data_x.append(a1)\n",
        "for i in range(0,10000):\n",
        "    a1=campfire[i].reshape(28,28)\n",
        "    data_x.append(a1)\n",
        "for i in range(0,10000):\n",
        "    a1=cloud[i].reshape(28,28)\n",
        "    data_x.append(a1)"
      ],
      "execution_count": 0,
      "outputs": []
    },
    {
      "metadata": {
        "id": "pEAsNUvRa6gk",
        "colab_type": "code",
        "colab": {
          "base_uri": "https://localhost:8080/",
          "height": 1009
        },
        "outputId": "31c0662b-f2b6-4326-8398-148bbcb008d5"
      },
      "cell_type": "code",
      "source": [
        "plt.imshow(alarm[0].reshape(28,28), interpolation='nearest',cmap='gray')\n",
        "plt.show()\n",
        "plt.imshow(book[0].reshape(28,28), interpolation='nearest',cmap='gray')\n",
        "plt.show()\n",
        "plt.imshow(campfire[0].reshape(28,28), interpolation='nearest',cmap='gray')\n",
        "plt.show()\n",
        "plt.imshow(cloud[0].reshape(28,28), interpolation='nearest',cmap='gray')\n",
        "plt.show()"
      ],
      "execution_count": 7,
      "outputs": [
        {
          "output_type": "display_data",
          "data": {
            "image/png": "[encoded data removed]",
            "text/plain": [
              "<matplotlib.figure.Figure at 0x7f0d55b16150>"
            ]
          },
          "metadata": {
            "tags": []
          }
        },
        {
          "output_type": "display_data",
          "data": {
            "image/png": "[encoded data removed]",
            "text/plain": [
              "<matplotlib.figure.Figure at 0x7f0d58fdb090>"
            ]
          },
          "metadata": {
            "tags": []
          }
        },
        {
          "output_type": "display_data",
          "data": {
            "image/png": "[encoded data removed]",
            "text/plain": [
              "<matplotlib.figure.Figure at 0x7f0d58f5b550>"
            ]
          },
          "metadata": {
            "tags": []
          }
        },
        {
          "output_type": "display_data",
          "data": {
            "image/png": "[encoded data removed]",
            "text/plain": [
              "<matplotlib.figure.Figure at 0x7f0d58eb4310>"
            ]
          },
          "metadata": {
            "tags": []
          }
        }
      ]
    },
    {
      "metadata": {
        "id": "tEOK0qimPB-R",
        "colab_type": "code",
        "colab": {}
      },
      "cell_type": "code",
      "source": [
        "data_x = np.array(data_x)"
      ],
      "execution_count": 0,
      "outputs": []
    },
    {
      "metadata": {
        "id": "VStW_d9oQUla",
        "colab_type": "code",
        "colab": {
          "base_uri": "https://localhost:8080/",
          "height": 34
        },
        "outputId": "66d0f856-aeb9-4e88-8aab-87cfc7dbc10f"
      },
      "cell_type": "code",
      "source": [
        "print data_x.shape"
      ],
      "execution_count": 9,
      "outputs": [
        {
          "output_type": "stream",
          "text": [
            "(40000, 28, 28)\n"
          ],
          "name": "stdout"
        }
      ]
    },
    {
      "metadata": {
        "id": "Z-TDY_1sRs0T",
        "colab_type": "code",
        "colab": {}
      },
      "cell_type": "code",
      "source": [
        "data_x = data_x.reshape(-1,28,28,1)\n",
        "data_x = data_x/255.0"
      ],
      "execution_count": 0,
      "outputs": []
    },
    {
      "metadata": {
        "id": "JdT-osNDQV_x",
        "colab_type": "code",
        "colab": {}
      },
      "cell_type": "code",
      "source": [
        "data_y = np.zeros((40000,))"
      ],
      "execution_count": 0,
      "outputs": []
    },
    {
      "metadata": {
        "id": "7JpX9UqJQbUJ",
        "colab_type": "code",
        "colab": {}
      },
      "cell_type": "code",
      "source": [
        "data_y[:10000] = 0\n",
        "data_y[10000:20000] = 1\n",
        "data_y[20000:30000] = 2\n",
        "data_y[30000:] = 3"
      ],
      "execution_count": 0,
      "outputs": []
    },
    {
      "metadata": {
        "id": "whhc7XUmQj4B",
        "colab_type": "code",
        "colab": {}
      },
      "cell_type": "code",
      "source": [
        "data_y = np_utils.to_categorical(data_y)"
      ],
      "execution_count": 0,
      "outputs": []
    },
    {
      "metadata": {
        "id": "V7YDieorQ0Po",
        "colab_type": "code",
        "colab": {
          "base_uri": "https://localhost:8080/",
          "height": 136
        },
        "outputId": "9a76e683-7c7b-4867-99e3-7212182ff314"
      },
      "cell_type": "code",
      "source": [
        "print data_y"
      ],
      "execution_count": 14,
      "outputs": [
        {
          "output_type": "stream",
          "text": [
            "[[1. 0. 0. 0.]\n",
            " [1. 0. 0. 0.]\n",
            " [1. 0. 0. 0.]\n",
            " ...\n",
            " [0. 0. 0. 1.]\n",
            " [0. 0. 0. 1.]\n",
            " [0. 0. 0. 1.]]\n"
          ],
          "name": "stdout"
        }
      ]
    },
    {
      "metadata": {
        "id": "TLiTUbn4Q3ZG",
        "colab_type": "code",
        "colab": {}
      },
      "cell_type": "code",
      "source": [
        "batch_size = 64\n",
        "epochs = 30\n",
        "num_classes = 4"
      ],
      "execution_count": 0,
      "outputs": []
    },
    {
      "metadata": {
        "id": "FVxtk8rtQ6l_",
        "colab_type": "code",
        "colab": {}
      },
      "cell_type": "code",
      "source": [
        "model = Sequential()\n",
        "model.add(Conv2D(32, kernel_size=(3, 3),activation='relu',input_shape=(28,28,1),padding='same'))\n",
        "model.add(LeakyReLU(alpha=0.05))\n",
        "model.add(MaxPooling2D((2, 2),padding='same'))\n",
        "model.add(Conv2D(64, (3, 3), activation='relu',padding='same'))\n",
        "model.add(LeakyReLU(alpha=0.05))\n",
        "model.add(MaxPooling2D(pool_size=(2, 2),padding='same'))\n",
        "model.add(Conv2D(128, (3, 3), activation='relu',padding='same'))\n",
        "model.add(LeakyReLU(alpha=0.05))                  \n",
        "model.add(MaxPooling2D(pool_size=(2, 2),padding='same'))\n",
        "model.add(Flatten())\n",
        "model.add(Dense(128, activation='relu'))\n",
        "model.add(LeakyReLU(alpha=0.1))                  \n",
        "model.add(Dense(num_classes, activation='softmax'))"
      ],
      "execution_count": 0,
      "outputs": []
    },
    {
      "metadata": {
        "id": "BkFU8-vLRHe1",
        "colab_type": "code",
        "colab": {
          "base_uri": "https://localhost:8080/",
          "height": 578
        },
        "outputId": "49076f81-be59-44e2-be0f-520faf4eb72e"
      },
      "cell_type": "code",
      "source": [
        "model.summary()"
      ],
      "execution_count": 17,
      "outputs": [
        {
          "output_type": "stream",
          "text": [
            "_________________________________________________________________\n",
            "Layer (type)                 Output Shape              Param #   \n",
            "=================================================================\n",
            "conv2d_1 (Conv2D)            (None, 28, 28, 32)        320       \n",
            "_________________________________________________________________\n",
            "leaky_re_lu_1 (LeakyReLU)    (None, 28, 28, 32)        0         \n",
            "_________________________________________________________________\n",
            "max_pooling2d_1 (MaxPooling2 (None, 14, 14, 32)        0         \n",
            "_________________________________________________________________\n",
            "conv2d_2 (Conv2D)            (None, 14, 14, 64)        18496     \n",
            "_________________________________________________________________\n",
            "leaky_re_lu_2 (LeakyReLU)    (None, 14, 14, 64)        0         \n",
            "_________________________________________________________________\n",
            "max_pooling2d_2 (MaxPooling2 (None, 7, 7, 64)          0         \n",
            "_________________________________________________________________\n",
            "conv2d_3 (Conv2D)            (None, 7, 7, 128)         73856     \n",
            "_________________________________________________________________\n",
            "leaky_re_lu_3 (LeakyReLU)    (None, 7, 7, 128)         0         \n",
            "_________________________________________________________________\n",
            "max_pooling2d_3 (MaxPooling2 (None, 4, 4, 128)         0         \n",
            "_________________________________________________________________\n",
            "flatten_1 (Flatten)          (None, 2048)              0         \n",
            "_________________________________________________________________\n",
            "dense_1 (Dense)              (None, 128)               262272    \n",
            "_________________________________________________________________\n",
            "leaky_re_lu_4 (LeakyReLU)    (None, 128)               0         \n",
            "_________________________________________________________________\n",
            "dense_2 (Dense)              (None, 4)                 516       \n",
            "=================================================================\n",
            "Total params: 355,460\n",
            "Trainable params: 355,460\n",
            "Non-trainable params: 0\n",
            "_________________________________________________________________\n"
          ],
          "name": "stdout"
        }
      ]
    },
    {
      "metadata": {
        "id": "svW9MYrNRUQr",
        "colab_type": "code",
        "colab": {}
      },
      "cell_type": "code",
      "source": [
        "model.compile(loss='categorical_crossentropy', optimizer='adam', metrics=['accuracy'])"
      ],
      "execution_count": 0,
      "outputs": []
    },
    {
      "metadata": {
        "id": "p9uWa0nmRYL8",
        "colab_type": "code",
        "outputId": "10c56ca1-60d7-4d8c-b430-d47de6b790dd",
        "colab": {
          "base_uri": "https://localhost:8080/",
          "height": 1071
        }
      },
      "cell_type": "code",
      "source": [
        "model.fit(data_x, data_y, batch_size=batch_size,epochs=epochs,validation_split=0.10)"
      ],
      "execution_count": 19,
      "outputs": [
        {
          "output_type": "stream",
          "text": [
            "Train on 36000 samples, validate on 4000 samples\n",
            "Epoch 1/30\n",
            "36000/36000 [==============================] - 59s 2ms/step - loss: 0.2363 - acc: 0.9173 - val_loss: 0.1329 - val_acc: 0.9627\n",
            "Epoch 2/30\n",
            "36000/36000 [==============================] - 35s 981us/step - loss: 0.1091 - acc: 0.9641 - val_loss: 0.1669 - val_acc: 0.9493\n",
            "Epoch 3/30\n",
            "36000/36000 [==============================] - 38s 1ms/step - loss: 0.0828 - acc: 0.9721 - val_loss: 0.0868 - val_acc: 0.9732\n",
            "Epoch 4/30\n",
            "36000/36000 [==============================] - 37s 1ms/step - loss: 0.0664 - acc: 0.9768 - val_loss: 0.1165 - val_acc: 0.9645\n",
            "Epoch 5/30\n",
            "36000/36000 [==============================] - 37s 1ms/step - loss: 0.0516 - acc: 0.9824 - val_loss: 0.0720 - val_acc: 0.9798\n",
            "Epoch 6/30\n",
            "36000/36000 [==============================] - 35s 969us/step - loss: 0.0401 - acc: 0.9854 - val_loss: 0.0527 - val_acc: 0.9845\n",
            "Epoch 7/30\n",
            "36000/36000 [==============================] - 37s 1ms/step - loss: 0.0319 - acc: 0.9883 - val_loss: 0.1696 - val_acc: 0.9547\n",
            "Epoch 8/30\n",
            "36000/36000 [==============================] - 38s 1ms/step - loss: 0.0252 - acc: 0.9910 - val_loss: 0.3112 - val_acc: 0.9317\n",
            "Epoch 9/30\n",
            "36000/36000 [==============================] - 38s 1ms/step - loss: 0.0217 - acc: 0.9924 - val_loss: 0.1402 - val_acc: 0.9677\n",
            "Epoch 10/30\n",
            "36000/36000 [==============================] - 37s 1ms/step - loss: 0.0169 - acc: 0.9938 - val_loss: 0.1658 - val_acc: 0.9620\n",
            "Epoch 11/30\n",
            "36000/36000 [==============================] - 36s 995us/step - loss: 0.0153 - acc: 0.9940 - val_loss: 0.2718 - val_acc: 0.9485\n",
            "Epoch 12/30\n",
            "36000/36000 [==============================] - 38s 1ms/step - loss: 0.0133 - acc: 0.9951 - val_loss: 0.1843 - val_acc: 0.9650\n",
            "Epoch 13/30\n",
            "36000/36000 [==============================] - 36s 1ms/step - loss: 0.0134 - acc: 0.9955 - val_loss: 0.1478 - val_acc: 0.9708\n",
            "Epoch 14/30\n",
            "36000/36000 [==============================] - 37s 1ms/step - loss: 0.0087 - acc: 0.9973 - val_loss: 0.1831 - val_acc: 0.9688\n",
            "Epoch 15/30\n",
            "36000/36000 [==============================] - 38s 1ms/step - loss: 0.0105 - acc: 0.9964 - val_loss: 0.2638 - val_acc: 0.9520\n",
            "Epoch 16/30\n",
            "36000/36000 [==============================] - 36s 1ms/step - loss: 0.0099 - acc: 0.9970 - val_loss: 0.1837 - val_acc: 0.9680\n",
            "Epoch 17/30\n",
            "36000/36000 [==============================] - 36s 1ms/step - loss: 0.0086 - acc: 0.9970 - val_loss: 0.1638 - val_acc: 0.9720\n",
            "Epoch 18/30\n",
            "36000/36000 [==============================] - 33s 909us/step - loss: 0.0088 - acc: 0.9969 - val_loss: 0.1951 - val_acc: 0.9677\n",
            "Epoch 19/30\n",
            "36000/36000 [==============================] - 35s 974us/step - loss: 0.0077 - acc: 0.9972 - val_loss: 0.2091 - val_acc: 0.9688\n",
            "Epoch 20/30\n",
            "36000/36000 [==============================] - 40s 1ms/step - loss: 0.0104 - acc: 0.9959 - val_loss: 0.1133 - val_acc: 0.9785\n",
            "Epoch 21/30\n",
            "36000/36000 [==============================] - 37s 1ms/step - loss: 0.0024 - acc: 0.9992 - val_loss: 0.3216 - val_acc: 0.9580\n",
            "Epoch 22/30\n",
            "36000/36000 [==============================] - 37s 1ms/step - loss: 0.0084 - acc: 0.9968 - val_loss: 0.1530 - val_acc: 0.9720\n",
            "Epoch 23/30\n",
            "36000/36000 [==============================] - 35s 964us/step - loss: 0.0036 - acc: 0.9986 - val_loss: 0.2477 - val_acc: 0.9615\n",
            "Epoch 24/30\n",
            "36000/36000 [==============================] - 36s 993us/step - loss: 0.0100 - acc: 0.9970 - val_loss: 0.1735 - val_acc: 0.9700\n",
            "Epoch 25/30\n",
            "36000/36000 [==============================] - 37s 1ms/step - loss: 0.0046 - acc: 0.9984 - val_loss: 0.3139 - val_acc: 0.9537\n",
            "Epoch 26/30\n",
            "36000/36000 [==============================] - 38s 1ms/step - loss: 0.0080 - acc: 0.9972 - val_loss: 0.1994 - val_acc: 0.9667\n",
            "Epoch 27/30\n",
            "36000/36000 [==============================] - 36s 999us/step - loss: 0.0065 - acc: 0.9981 - val_loss: 0.1576 - val_acc: 0.9752\n",
            "Epoch 28/30\n",
            "36000/36000 [==============================] - 35s 969us/step - loss: 0.0045 - acc: 0.9984 - val_loss: 0.2758 - val_acc: 0.9633\n",
            "Epoch 29/30\n",
            "36000/36000 [==============================] - 36s 992us/step - loss: 0.0053 - acc: 0.9984 - val_loss: 0.2183 - val_acc: 0.9685\n",
            "Epoch 30/30\n",
            "36000/36000 [==============================] - 37s 1ms/step - loss: 0.0051 - acc: 0.9983 - val_loss: 0.1483 - val_acc: 0.9745\n"
          ],
          "name": "stdout"
        },
        {
          "output_type": "execute_result",
          "data": {
            "text/plain": [
              "<keras.callbacks.History at 0x7f0d58dc7dd0>"
            ]
          },
          "metadata": {
            "tags": []
          },
          "execution_count": 19
        }
      ]
    },
    {
      "metadata": {
        "id": "rkg_8tNq7TsU",
        "colab_type": "code",
        "colab": {
          "base_uri": "https://localhost:8080/",
          "height": 122
        },
        "outputId": "75c6bd59-d0ef-417f-d3d9-0ec1ed133384"
      },
      "cell_type": "code",
      "source": [
        "from google.colab import drive\n",
        "drive.mount('/content/drive')"
      ],
      "execution_count": 21,
      "outputs": [
        {
          "output_type": "stream",
          "text": [
            "Go to this URL in a browser: https://accounts.google.com/o/oauth2/auth?client_id=947318989803-6bn6qk8qdgf4n4g3pfee6491hc0brc4i.apps.googleusercontent.com&redirect_uri=urn%3Aietf%3Awg%3Aoauth%3A2.0%3Aoob&scope=email%20https%3A%2F%2Fwww.googleapis.com%2Fauth%2Fdocs.test%20https%3A%2F%2Fwww.googleapis.com%2Fauth%2Fdrive%20https%3A%2F%2Fwww.googleapis.com%2Fauth%2Fdrive.photos.readonly%20https%3A%2F%2Fwww.googleapis.com%2Fauth%2Fpeopleapi.readonly&response_type=code\n",
            "\n",
            "Enter your authorization code:\n",
            "··········\n",
            "Mounted at /content/drive\n"
          ],
          "name": "stdout"
        }
      ]
    },
    {
      "metadata": {
        "id": "K75vaYcnSVIj",
        "colab_type": "code",
        "colab": {}
      },
      "cell_type": "code",
      "source": [
        "model.save('/content/drive/My Drive/Quick_Draw_CNN.h5')"
      ],
      "execution_count": 0,
      "outputs": []
    },
    {
      "metadata": {
        "id": "BDR1sr8H7nUS",
        "colab_type": "code",
        "colab": {}
      },
      "cell_type": "code",
      "source": [
        ""
      ],
      "execution_count": 0,
      "outputs": []
    }
  ]
}